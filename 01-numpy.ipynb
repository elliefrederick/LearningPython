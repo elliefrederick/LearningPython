{
 "cells": [
  {
   "cell_type": "markdown",
   "metadata": {},
   "source": [
    "# This is my python learning course\n",
    "we **are** learning ~~matlab~~ *python* _jupyter_"
   ]
  },
  {
   "cell_type": "code",
   "execution_count": 1,
   "metadata": {},
   "outputs": [],
   "source": [
    "import numpy"
   ]
  },
  {
   "cell_type": "code",
   "execution_count": 4,
   "metadata": {},
   "outputs": [
    {
     "data": {
      "text/plain": [
       "array([[0., 0., 1., ..., 3., 0., 0.],\n",
       "       [0., 1., 2., ..., 1., 0., 1.],\n",
       "       [0., 1., 1., ..., 2., 1., 1.],\n",
       "       ...,\n",
       "       [0., 1., 1., ..., 1., 1., 1.],\n",
       "       [0., 0., 0., ..., 0., 2., 0.],\n",
       "       [0., 0., 1., ..., 1., 1., 0.]])"
      ]
     },
     "execution_count": 4,
     "metadata": {},
     "output_type": "execute_result"
    }
   ],
   "source": [
    "numpy.loadtxt(fname='data/inflammation-01.csv', delimiter=',')"
   ]
  },
  {
   "cell_type": "markdown",
   "metadata": {},
   "source": [
    "# Variables"
   ]
  },
  {
   "cell_type": "code",
   "execution_count": 5,
   "metadata": {},
   "outputs": [],
   "source": [
    "weight_kg = 55"
   ]
  },
  {
   "cell_type": "code",
   "execution_count": 6,
   "metadata": {},
   "outputs": [
    {
     "name": "stdout",
     "output_type": "stream",
     "text": [
      "Weight in pounds:  121.00000000000001\n"
     ]
    }
   ],
   "source": [
    "print('Weight in pounds: ', 2.2*weight_kg)"
   ]
  },
  {
   "cell_type": "code",
   "execution_count": 7,
   "metadata": {},
   "outputs": [],
   "source": [
    "weight_kg = 57.4\n",
    "weight_lb = 2.2*weight_kg"
   ]
  },
  {
   "cell_type": "code",
   "execution_count": 10,
   "metadata": {},
   "outputs": [
    {
     "name": "stdout",
     "output_type": "stream",
     "text": [
      "weight in kg:  57.4  and in lb:  126.28\n"
     ]
    }
   ],
   "source": [
    "print('weight in kg: ', weight_kg, ' and in lb: ', weight_lb)"
   ]
  },
  {
   "cell_type": "code",
   "execution_count": 11,
   "metadata": {},
   "outputs": [
    {
     "name": "stdout",
     "output_type": "stream",
     "text": [
      "weight in kg:  100  and in lb:  126.28\n"
     ]
    }
   ],
   "source": [
    "weight_kg = 100\n",
    "print('weight in kg: ', weight_kg, ' and in lb: ', weight_lb)"
   ]
  },
  {
   "cell_type": "code",
   "execution_count": 12,
   "metadata": {},
   "outputs": [],
   "source": [
    "data = numpy.loadtxt(fname='data/inflammation-01.csv', delimiter=',')"
   ]
  },
  {
   "cell_type": "code",
   "execution_count": 13,
   "metadata": {},
   "outputs": [
    {
     "name": "stdout",
     "output_type": "stream",
     "text": [
      "float64\n",
      "(60, 40)\n"
     ]
    }
   ],
   "source": [
    "print(data.dtype)\n",
    "print(data.shape)"
   ]
  },
  {
   "cell_type": "code",
   "execution_count": 14,
   "metadata": {},
   "outputs": [
    {
     "name": "stdout",
     "output_type": "stream",
     "text": [
      "first value on data 0.0\n"
     ]
    }
   ],
   "source": [
    "print('first value on data', data[0,0])"
   ]
  },
  {
   "cell_type": "code",
   "execution_count": 15,
   "metadata": {},
   "outputs": [
    {
     "name": "stdout",
     "output_type": "stream",
     "text": [
      "13.0\n"
     ]
    }
   ],
   "source": [
    "print(data[30,20])"
   ]
  },
  {
   "cell_type": "code",
   "execution_count": 16,
   "metadata": {},
   "outputs": [
    {
     "name": "stdout",
     "output_type": "stream",
     "text": [
      "[[0. 0. 1. 3. 1. 2. 4. 7. 8. 3.]\n",
      " [0. 1. 2. 1. 2. 1. 3. 2. 2. 6.]\n",
      " [0. 1. 1. 3. 3. 2. 6. 2. 5. 9.]\n",
      " [0. 0. 2. 0. 4. 2. 2. 1. 6. 7.]]\n"
     ]
    }
   ],
   "source": [
    "print(data[0:4, 0:10]) #first 4 patients, first 10 days"
   ]
  },
  {
   "cell_type": "code",
   "execution_count": 17,
   "metadata": {},
   "outputs": [
    {
     "name": "stdout",
     "output_type": "stream",
     "text": [
      "[[0. 0. 1. 2. 2. 4. 2. 1. 6. 4.]\n",
      " [0. 0. 2. 2. 4. 2. 2. 5. 5. 8.]\n",
      " [0. 0. 1. 2. 3. 1. 2. 3. 5. 3.]\n",
      " [0. 0. 0. 3. 1. 5. 6. 5. 5. 8.]\n",
      " [0. 1. 1. 2. 1. 3. 5. 3. 5. 8.]]\n"
     ]
    }
   ],
   "source": [
    "print(data[5:10, 0:10]) #this will show a range of patients"
   ]
  },
  {
   "cell_type": "code",
   "execution_count": 20,
   "metadata": {},
   "outputs": [],
   "source": [
    "small = data[:3, 36:]"
   ]
  },
  {
   "cell_type": "code",
   "execution_count": 21,
   "metadata": {},
   "outputs": [
    {
     "name": "stdout",
     "output_type": "stream",
     "text": [
      "[[2. 3. 0. 0.]\n",
      " [1. 1. 0. 1.]\n",
      " [2. 2. 1. 1.]]\n"
     ]
    }
   ],
   "source": [
    "print(small)"
   ]
  },
  {
   "cell_type": "code",
   "execution_count": 23,
   "metadata": {},
   "outputs": [
    {
     "data": {
      "text/plain": [
       "array([], shape=(0, 0), dtype=float64)"
      ]
     },
     "execution_count": 23,
     "metadata": {},
     "output_type": "execute_result"
    }
   ],
   "source": [
    "data[3:3, 4:4] #this gives an empty array"
   ]
  },
  {
   "cell_type": "code",
   "execution_count": 24,
   "metadata": {},
   "outputs": [
    {
     "data": {
      "text/plain": [
       "array([], shape=(0, 40), dtype=float64)"
      ]
     },
     "execution_count": 24,
     "metadata": {},
     "output_type": "execute_result"
    }
   ],
   "source": [
    "data[3:3, :]"
   ]
  },
  {
   "cell_type": "markdown",
   "metadata": {},
   "source": [
    "Operations"
   ]
  },
  {
   "cell_type": "code",
   "execution_count": 25,
   "metadata": {},
   "outputs": [
    {
     "name": "stdout",
     "output_type": "stream",
     "text": [
      "[[0. 0. 2. ... 6. 0. 0.]\n",
      " [0. 2. 4. ... 2. 0. 2.]\n",
      " [0. 2. 2. ... 4. 2. 2.]\n",
      " ...\n",
      " [0. 2. 2. ... 2. 2. 2.]\n",
      " [0. 0. 0. ... 0. 4. 0.]\n",
      " [0. 0. 2. ... 2. 2. 0.]]\n"
     ]
    }
   ],
   "source": [
    "doubledata = data*2\n",
    "print(doubledata)"
   ]
  },
  {
   "cell_type": "code",
   "execution_count": 26,
   "metadata": {},
   "outputs": [],
   "source": [
    "tripledata = doubledata+data"
   ]
  },
  {
   "cell_type": "code",
   "execution_count": 27,
   "metadata": {},
   "outputs": [
    {
     "name": "stdout",
     "output_type": "stream",
     "text": [
      "[[0. 0. 3. ... 9. 0. 0.]\n",
      " [0. 3. 6. ... 3. 0. 3.]\n",
      " [0. 3. 3. ... 6. 3. 3.]\n",
      " ...\n",
      " [0. 3. 3. ... 3. 3. 3.]\n",
      " [0. 0. 0. ... 0. 6. 0.]\n",
      " [0. 0. 3. ... 3. 3. 0.]]\n"
     ]
    }
   ],
   "source": [
    "print(tripledata)"
   ]
  },
  {
   "cell_type": "code",
   "execution_count": 29,
   "metadata": {},
   "outputs": [
    {
     "name": "stdout",
     "output_type": "stream",
     "text": [
      "6.14875\n"
     ]
    }
   ],
   "source": [
    "print(data.mean())"
   ]
  },
  {
   "cell_type": "code",
   "execution_count": 30,
   "metadata": {},
   "outputs": [
    {
     "name": "stdout",
     "output_type": "stream",
     "text": [
      "20.0\n"
     ]
    }
   ],
   "source": [
    "print(data.max())"
   ]
  },
  {
   "cell_type": "code",
   "execution_count": 31,
   "metadata": {},
   "outputs": [
    {
     "name": "stdout",
     "output_type": "stream",
     "text": [
      "maximum inflamation for patient 0  18.0\n"
     ]
    }
   ],
   "source": [
    "patient_0 = data[0, :]\n",
    "print('maximum inflamation for patient 0 ', patient_0.max())"
   ]
  },
  {
   "cell_type": "code",
   "execution_count": 32,
   "metadata": {},
   "outputs": [
    {
     "data": {
      "text/plain": [
       "18.0"
      ]
     },
     "execution_count": 32,
     "metadata": {},
     "output_type": "execute_result"
    }
   ],
   "source": [
    "data[1, :].max() #will give the maximum of a row"
   ]
  },
  {
   "cell_type": "code",
   "execution_count": 34,
   "metadata": {},
   "outputs": [
    {
     "name": "stdout",
     "output_type": "stream",
     "text": [
      "[ 0.          0.45        1.11666667  1.75        2.43333333  3.15\n",
      "  3.8         3.88333333  5.23333333  5.51666667  5.95        5.9\n",
      "  8.35        7.73333333  8.36666667  9.5         9.58333333 10.63333333\n",
      " 11.56666667 12.35       13.25       11.96666667 11.03333333 10.16666667\n",
      " 10.          8.66666667  9.15        7.25        7.33333333  6.58333333\n",
      "  6.06666667  5.95        5.11666667  3.6         3.3         3.56666667\n",
      "  2.48333333  1.5         1.13333333  0.56666667]\n"
     ]
    }
   ],
   "source": [
    "print(data.mean(axis=0)) #this would be the mean per day (which would be the vertical plane of the matrix)"
   ]
  },
  {
   "cell_type": "code",
   "execution_count": 39,
   "metadata": {},
   "outputs": [
    {
     "name": "stdout",
     "output_type": "stream",
     "text": [
      "(60, 40)\n",
      "(40,)\n"
     ]
    },
    {
     "data": {
      "text/plain": [
       "4.579294680644961"
      ]
     },
     "execution_count": 39,
     "metadata": {},
     "output_type": "execute_result"
    }
   ],
   "source": [
    "print(data.shape) #for size of matrix\n",
    "print(data.mean(axis=0).shape) #for the mean \n",
    "data.std(axis = 1).mean() #for the average of the standard deviation"
   ]
  },
  {
   "cell_type": "markdown",
   "metadata": {},
   "source": [
    "# Plotting"
   ]
  },
  {
   "cell_type": "code",
   "execution_count": 37,
   "metadata": {},
   "outputs": [
    {
     "data": {
      "image/png": "[encoded data removed]",
      "text/plain": [
       "<Figure size 432x288 with 1 Axes>"
      ]
     },
     "metadata": {},
     "output_type": "display_data"
    }
   ],
   "source": [
    "% matplotlib inline #to plot alongside calcs\n",
    "import matplotlib.pyplot #importing library\n",
    "\n",
    "image = matplotlib.pyplot.imshow(data) #creating a variable. show me an image of this data 'imshow'\n",
    "matplotlib.pyplot.show() #running the show command"
   ]
  },
  {
   "cell_type": "code",
   "execution_count": 40,
   "metadata": {},
   "outputs": [
    {
     "data": {
      "image/png": "[encoded data removed]",
      "text/plain": [
       "<Figure size 432x288 with 1 Axes>"
      ]
     },
     "metadata": {},
     "output_type": "display_data"
    }
   ],
   "source": [
    "average_inflamation = data.mean(axis=0)\n",
    "average_plot = matplotlib.pyplot.plot(average_inflamation) #array of one dimensional values\n",
    "matplotlib.pyplot.show()\n",
    "#taking the average inflamation for each patient per day"
   ]
  },
  {
   "cell_type": "code",
   "execution_count": 46,
   "metadata": {},
   "outputs": [
    {
     "data": {
      "image/png": "[encoded data removed]",
      "text/plain": [
       "<Figure size 432x288 with 1 Axes>"
      ]
     },
     "metadata": {},
     "output_type": "display_data"
    }
   ],
   "source": [
    "std_inflamation = data.std(axis=0)\n",
    "std_plot = matplotlib.pyplot.plot(std_inflamation) #this will only work in Jupyter!\n",
    "matplotlib.pyplot.show() #for the standard deviation for each patient per day"
   ]
  },
  {
   "cell_type": "markdown",
   "metadata": {},
   "source": [
    "# subplotting"
   ]
  },
  {
   "cell_type": "code",
   "execution_count": 71,
   "metadata": {},
   "outputs": [
    {
     "data": {
      "text/plain": [
       "[<matplotlib.lines.Line2D at 0x12024b9b0>]"
      ]
     },
     "execution_count": 71,
     "metadata": {},
     "output_type": "execute_result"
    },
    {
     "data": {
      "image/png": "[encoded data removed]",
      "text/plain": [
       "<Figure size 720x216 with 3 Axes>"
      ]
     },
     "metadata": {},
     "output_type": "display_data"
    }
   ],
   "source": [
    "fig = matplotlib.pyplot.figure(figsize=(10,3)) #10 by 3 is the canvas size\n",
    "\n",
    "axes1 = fig.add_subplot(1, 3, 1)\n",
    "axes1.set_ylabel('average')\n",
    "axes1.plot(data.mean(axis=0))\n",
    "\n",
    "axes2 = fig.add_subplot(2, 3, 1)\n",
    "axes2.set_ylabel('max')\n",
    "axes2.plot(data.max(axis=0))\n",
    "\n",
    "axes3 = fig.add_subplot(3, 3, 1)\n",
    "axes3.set_ylabel('min')\n",
    "axes3.set_ylim(0,6) #to set limits to axes\n",
    "axes3.plot(data.min(axis=0))"
   ]
  },
  {
   "cell_type": "code",
   "execution_count": null,
   "metadata": {},
   "outputs": [],
   "source": []
  }
 ],
 "metadata": {
  "kernelspec": {
   "display_name": "Python 3",
   "language": "python",
   "name": "python3"
  },
  "language_info": {
   "codemirror_mode": {
    "name": "ipython",
    "version": 3
   },
   "file_extension": ".py",
   "mimetype": "text/x-python",
   "name": "python",
   "nbconvert_exporter": "python",
   "pygments_lexer": "ipython3",
   "version": "3.6.5"
  }
 },
 "nbformat": 4,
 "nbformat_minor": 2
}
