{
 "cells": [
  {
   "cell_type": "code",
   "execution_count": 2,
   "metadata": {},
   "outputs": [
    {
     "name": "stdout",
     "output_type": "stream",
     "text": [
      "N\n",
      "e\n",
      "w\n",
      "t\n",
      "o\n",
      "n\n"
     ]
    }
   ],
   "source": [
    "name = 'Newton'\n",
    "result = 'notweN'\n",
    "for result in name:\n",
    "    print(result)"
   ]
  },
  {
   "cell_type": "code",
   "execution_count": 6,
   "metadata": {},
   "outputs": [
    {
     "name": "stdout",
     "output_type": "stream",
     "text": [
      "notweN\n"
     ]
    }
   ],
   "source": [
    "var1 = 'n'\n",
    "var2 = 'o'\n",
    "var3 = 't'\n",
    "var4 = 'w'\n",
    "var5 = 'e'\n",
    "var6 = 'N'\n",
    "\n",
    "F = var1+var2+var3+var4+var5+var6\n",
    "print(F)\n",
    "\n",
    "#DONT DO IT THIS WAY"
   ]
  },
  {
   "cell_type": "code",
   "execution_count": 10,
   "metadata": {},
   "outputs": [
    {
     "name": "stdout",
     "output_type": "stream",
     "text": [
      "notweN\n"
     ]
    }
   ],
   "source": [
    "result = ''\n",
    "for index in range(1,len(name)+1):\n",
    "    result = result+name[-index]\n",
    "\n",
    "print(result)\n",
    "    #METHOD 1"
   ]
  },
  {
   "cell_type": "code",
   "execution_count": 13,
   "metadata": {},
   "outputs": [
    {
     "name": "stdout",
     "output_type": "stream",
     "text": [
      "notweN\n"
     ]
    }
   ],
   "source": [
    "result = ''\n",
    "for index in range(len(name)-1, -1, -1):\n",
    "    result = result+name[index]\n",
    "\n",
    "print(result)\n",
    "    #METHOD 2"
   ]
  },
  {
   "cell_type": "code",
   "execution_count": 15,
   "metadata": {},
   "outputs": [
    {
     "name": "stdout",
     "output_type": "stream",
     "text": [
      "notweN\n"
     ]
    }
   ],
   "source": [
    "result = ''\n",
    "for char in name:\n",
    "    result = char + result #(adding the char before result, backwards)\n",
    "\n",
    "print(result)\n",
    "\n",
    "#PREFERABLE METHOD"
   ]
  },
  {
   "cell_type": "code",
   "execution_count": 17,
   "metadata": {},
   "outputs": [
    {
     "data": {
      "text/plain": [
       "'notweN'"
      ]
     },
     "execution_count": 17,
     "metadata": {},
     "output_type": "execute_result"
    }
   ],
   "source": [
    "#one line method:\n",
    "\n",
    "name[::-1] #incramenting with -1!"
   ]
  },
  {
   "cell_type": "code",
   "execution_count": null,
   "metadata": {},
   "outputs": [],
   "source": []
  }
 ],
 "metadata": {
  "kernelspec": {
   "display_name": "Python 3",
   "language": "python",
   "name": "python3"
  },
  "language_info": {
   "codemirror_mode": {
    "name": "ipython",
    "version": 3
   },
   "file_extension": ".py",
   "mimetype": "text/x-python",
   "name": "python",
   "nbconvert_exporter": "python",
   "pygments_lexer": "ipython3",
   "version": "3.6.5"
  }
 },
 "nbformat": 4,
 "nbformat_minor": 2
}
